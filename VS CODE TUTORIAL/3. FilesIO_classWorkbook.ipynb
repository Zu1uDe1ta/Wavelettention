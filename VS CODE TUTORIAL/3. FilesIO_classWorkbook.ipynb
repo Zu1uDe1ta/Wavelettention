{
 "cells": [
  {
   "cell_type": "markdown",
   "metadata": {},
   "source": [
    "##  File i/o\n",
    "The format or act of saving/outputting a file is often referred to as `serialization`. If we're fortunate enough to have found some data in a common format then there's generally a convenient way to load it into memory. Saving (serializing) data is generally just as straightforward!\n",
    "\n",
    "####  Writing\n",
    "Python's built-in method for loading (saving) data from (to) disk is the `open()` function. The first important thing about `open()` is specifying if you are reading (loading) from (`'r'`) or writing (saving) to (`'w'`, ) a file."
   ]
  },
  {
   "cell_type": "markdown",
   "metadata": {},
   "source": [
    "Before getting into python's builtin function, lets look at some jupyter notebook's magic function to create a file."
   ]
  },
  {
   "cell_type": "code",
   "execution_count": null,
   "metadata": {},
   "outputs": [],
   "source": []
  },
  {
   "cell_type": "code",
   "execution_count": null,
   "metadata": {},
   "outputs": [],
   "source": []
  },
  {
   "cell_type": "code",
   "execution_count": null,
   "metadata": {},
   "outputs": [],
   "source": [
    "#let's try to gather a file called exam_text_file.txt"
   ]
  },
  {
   "cell_type": "code",
   "execution_count": null,
   "metadata": {},
   "outputs": [],
   "source": []
  },
  {
   "cell_type": "code",
   "execution_count": null,
   "metadata": {},
   "outputs": [],
   "source": [
    "#so to avoid this error we need to know where the path is, use %pwd or path to working dir\n"
   ]
  },
  {
   "cell_type": "code",
   "execution_count": null,
   "metadata": {},
   "outputs": [],
   "source": [
    "#it is clear the file is not here.. the file is inside data folder\n"
   ]
  },
  {
   "cell_type": "code",
   "execution_count": null,
   "metadata": {},
   "outputs": [],
   "source": [
    "## first things first, let's write some text to a file to create some data\n",
    " # overwrites the file path to an empty file\n",
    "\n",
    "## each .write() command prints the string to the file\n",
    "\n",
    "\n",
    "## to finish the job we have to close the file handle\n"
   ]
  },
  {
   "cell_type": "markdown",
   "metadata": {},
   "source": [
    "#### Reading\n",
    "Reading a file looks a lot like writing (but in reverse), which we can do now that we have a file.\n",
    "Just make sure you specify `'r'` when reading so as not to overwrite your data!"
   ]
  },
  {
   "cell_type": "code",
   "execution_count": null,
   "metadata": {},
   "outputs": [],
   "source": [
    "## opens the file handle into read mode\n",
    "\n",
    "\n"
   ]
  },
  {
   "cell_type": "markdown",
   "metadata": {},
   "source": [
    "####  Appending\n",
    "If you want to add to a file, use the `'a'` argumnent to append.\n",
    "Specifing `'w'` means you're overwriting the whole file. Here's an append example:"
   ]
  },
  {
   "cell_type": "code",
   "execution_count": null,
   "metadata": {},
   "outputs": [],
   "source": [
    "## open the text file in append mode\n",
    "\n",
    "\n",
    "## each .write() command prints the string to the file\n",
    "\n",
    "\n",
    "## to finish the job we have to close the file handle\n",
    "\n",
    "\n",
    "## opens the file handle into read mode\n",
    " \n",
    "\n",
    "\n",
    "## to finish the job we have to close the file handle\n"
   ]
  },
  {
   "cell_type": "markdown",
   "metadata": {},
   "source": [
    "#### Pythonic file i/o\n",
    "If you haven't heard or read the term `Pythonic` yet, it refers to the intentionally succicnt ways of performing task that Python affords. Using the `with` idiom and Python's indentation, here's a nicer way to approach file i/o"
   ]
  },
  {
   "cell_type": "code",
   "execution_count": null,
   "metadata": {},
   "outputs": [],
   "source": [
    "## let's print another line for good measure\n",
    "## Note this idiom automattically closes the handle\n",
    "\n",
    "    \n",
    "## now, use the same idiom to read the data from file\n"
   ]
  },
  {
   "cell_type": "markdown",
   "metadata": {},
   "source": [
    "####  Line by line file reading\n",
    "Above, we can see how to write out individual pieceis or lines of text, but how can we loop through a file and just get the 'next' line until the end? Here we'll use the Pythonic syntax, but read files one line at a time. Working like this allows processes to perform their tasks on data one line at a time to conserve memory when there's lots of data."
   ]
  },
  {
   "cell_type": "code",
   "execution_count": null,
   "metadata": {},
   "outputs": [],
   "source": [
    "## now, use the same idiom to read the data from file one line at a time\n"
   ]
  },
  {
   "cell_type": "markdown",
   "metadata": {},
   "source": [
    "### File I/O with more complex data objects\n",
    "Strings, numbers, text, booleans and nulls are all pretty common. However, the file I/O we've seen so far will only read/write strings. From this point we would then have to run `int()`, `float()`, etc., to coerce any found objects into their appropriate types. How can we preserve structure?\n",
    "\n",
    "####  Pickle\n",
    "Pickling saves (serializes) Python objects. While this helpful for Python, pickles are not toally portable with other languages. Regardless, here's some basic saving and loading examples:"
   ]
  },
  {
   "cell_type": "code",
   "execution_count": null,
   "metadata": {},
   "outputs": [],
   "source": []
  },
  {
   "cell_type": "markdown",
   "metadata": {},
   "source": [
    "#### JSON\n",
    "JSON does the same for javascript, but has become a cross-language standard. Note that because JSON hails from javascript, there's no reason why it should be able to handle all native Python objects. So, while any Python object can be Pickled, only several types can by JSON'd: nulls (`None`s), booleans, integers, floats, dictionaries, and lists. So, aside from compatibility: why is JSON ever preferable to pickle? First, JSON loading/writing is just about as fast as pickling, and second, it's more secure&mdash;opening a malicious pickle can run code on your computer! There's also one more big reason that dominates:\n",
    "\n",
    "- JSON is very human readable. The syntax essentially looks like any mixture of Python's native dicts, lists, ints, floats, nulls, bools, and strings.\n",
    "\n",
    "In fact, Jupyter/IPython notebooks are entirely encoded as JSON objects! Here how to do the exact same work with JSON."
   ]
  },
  {
   "cell_type": "code",
   "execution_count": null,
   "metadata": {},
   "outputs": [],
   "source": []
  },
  {
   "cell_type": "markdown",
   "metadata": {},
   "source": [
    "####  XML\n",
    "Want to save your data as something even more portable than json? Well, the whole World Wide Web&mdash;html&mdash;is essentially just XML. If it's just XML file I/O we can use two simpler modules: `xmltodict` and `dicttoxml`:"
   ]
  },
  {
   "cell_type": "code",
   "execution_count": null,
   "metadata": {},
   "outputs": [],
   "source": []
  },
  {
   "cell_type": "code",
   "execution_count": null,
   "metadata": {},
   "outputs": [],
   "source": []
  },
  {
   "cell_type": "code",
   "execution_count": null,
   "metadata": {},
   "outputs": [],
   "source": []
  }
 ],
 "metadata": {
  "kernelspec": {
   "display_name": "Python 3",
   "language": "python",
   "name": "python3"
  },
  "language_info": {
   "codemirror_mode": {
    "name": "ipython",
    "version": 3
   },
   "file_extension": ".py",
   "mimetype": "text/x-python",
   "name": "python",
   "nbconvert_exporter": "python",
   "pygments_lexer": "ipython3",
   "version": "3.7.3"
  }
 },
 "nbformat": 4,
 "nbformat_minor": 2
}
